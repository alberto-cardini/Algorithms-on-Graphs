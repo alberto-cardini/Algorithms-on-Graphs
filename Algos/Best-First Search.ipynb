{
 "cells": [
  {
   "metadata": {},
   "cell_type": "markdown",
   "source": [
    "# Best First Search Algorithm\n",
    "The Best First Search is a graph search algorithm based on a priority queue, called **frontier**, that holds the possible nodes corresponding to a given goal. Whether the current node is the goal or must be expanded is decided according to a heuristic, if is the informed version of the algorithm, or to a blind policy like: FIFO, LIFO or Uniform Cost.\n",
    "\n",
    "This algorithm generalize the concept of searching for a goal in graph, indeed, in the same pseudocode there are BFS, DFS and Dijkstra depending on the chosen blind policy of extraction. When a heuristic is added and minor changes are implemented, the algorithm becomes A-star. Let's look up at the code."
   ],
   "id": "39d9e288abfae8c3"
  },
  {
   "metadata": {},
   "cell_type": "code",
   "outputs": [],
   "execution_count": null,
   "source": "",
   "id": "a0c77ceb7522415f"
  }
 ],
 "metadata": {
  "kernelspec": {
   "display_name": "Python 3",
   "language": "python",
   "name": "python3"
  },
  "language_info": {
   "codemirror_mode": {
    "name": "ipython",
    "version": 2
   },
   "file_extension": ".py",
   "mimetype": "text/x-python",
   "name": "python",
   "nbconvert_exporter": "python",
   "pygments_lexer": "ipython2",
   "version": "2.7.6"
  }
 },
 "nbformat": 4,
 "nbformat_minor": 5
}
